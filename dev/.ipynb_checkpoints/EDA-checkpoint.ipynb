{
 "cells": [
  {
   "cell_type": "code",
   "execution_count": 9,
   "id": "a7c53925",
   "metadata": {},
   "outputs": [
    {
     "data": {
      "text/plain": [
       "(306, 306, 306)"
      ]
     },
     "execution_count": 9,
     "metadata": {},
     "output_type": "execute_result"
    }
   ],
   "source": [
    "import os\n",
    "files_pths = os.listdir(\"../data/original/files\")\n",
    "plagiat1_pths = os.listdir(\"../data/original/plagiat1\")\n",
    "plagiat2_pths = os.listdir(\"../data/original/plagiat2\")\n",
    "len(files_pths), len(plagiat1_pths), len(plagiat2_pths)"
   ]
  },
  {
   "cell_type": "code",
   "execution_count": 10,
   "id": "0f4ce111",
   "metadata": {},
   "outputs": [],
   "source": [
    "import ast\n",
    "with open('../data/original/files/original/basic.py', 'r') as file:\n",
    "    code_example = file.read()\n",
    "dump = ast.dump(ast.parse(code_example))"
   ]
  },
  {
   "cell_type": "code",
   "execution_count": 11,
   "id": "eb06b7f2",
   "metadata": {},
   "outputs": [
    {
     "data": {
      "text/plain": [
       "'multisim.py'"
      ]
     },
     "execution_count": 11,
     "metadata": {},
     "output_type": "execute_result"
    }
   ],
   "source": [
    "files_pths[0]"
   ]
  },
  {
   "cell_type": "code",
   "execution_count": null,
   "id": "e8b18366",
   "metadata": {},
   "outputs": [],
   "source": []
  }
 ],
 "metadata": {
  "kernelspec": {
   "display_name": "Python 3 (ipykernel)",
   "language": "python",
   "name": "python3"
  },
  "language_info": {
   "codemirror_mode": {
    "name": "ipython",
    "version": 3
   },
   "file_extension": ".py",
   "mimetype": "text/x-python",
   "name": "python",
   "nbconvert_exporter": "python",
   "pygments_lexer": "ipython3",
   "version": "3.9.12"
  },
  "vscode": {
   "interpreter": {
    "hash": "aee8b7b246df8f9039afb4144a1f6fd8d2ca17a180786b69acc140d282b71a49"
   }
  }
 },
 "nbformat": 4,
 "nbformat_minor": 5
}
